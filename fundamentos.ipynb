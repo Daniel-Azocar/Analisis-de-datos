{
 "cells": [
  {
   "cell_type": "code",
   "execution_count": null,
   "metadata": {},
   "outputs": [],
   "source": []
  },
  {
   "cell_type": "markdown",
   "metadata": {},
   "source": [
    "## Fundamentos de Python\n",
    "\n",
    "* Variables\n",
    "* Operadores matematicos básicos\n",
    "* Operadores de comparación\n",
    "* Operadores booleanos\n",
    "* Condicionales simples\n",
    "* Condicionales completos\n",
    "* Operadores Anidados\n",
    "* Condicionales encadenados\n",
    "* Estructuras de datos\n",
    "    - Cadenas de caracteres\n",
    "    - Enteros\n",
    "    - Flotanes\n",
    "    - Listas\n",
    "    - Tuplas\n",
    "    - Diccionarios\n",
    "* Estructuras de control\n",
    "    - Ciclos finitos\n",
    "    - Ciclos infinitos\n",
    "    - Funciones\n",
    "* Fundamentos de programación orientado a objetos"
   ]
  },
  {
   "cell_type": "markdown",
   "metadata": {},
   "source": []
  },
  {
   "cell_type": "code",
   "execution_count": 1,
   "metadata": {},
   "outputs": [],
   "source": [
    "name = \"Mis chicas\"\n"
   ]
  },
  {
   "cell_type": "code",
   "execution_count": 2,
   "metadata": {},
   "outputs": [
    {
     "data": {
      "text/plain": [
       "'Mis chicas'"
      ]
     },
     "execution_count": 2,
     "metadata": {},
     "output_type": "execute_result"
    }
   ],
   "source": [
    "name"
   ]
  },
  {
   "cell_type": "code",
   "execution_count": 3,
   "metadata": {},
   "outputs": [],
   "source": [
    "last_name = \"Azócar Guzman\""
   ]
  },
  {
   "cell_type": "code",
   "execution_count": 6,
   "metadata": {},
   "outputs": [],
   "source": [
    "# Ejemplo de lo que no se debe hacer\n",
    "Name = \"Mis Chicas\"\n",
    "Last_name = \"Azócar Guzman\"\n"
   ]
  },
  {
   "cell_type": "code",
   "execution_count": 7,
   "metadata": {},
   "outputs": [
    {
     "data": {
      "text/plain": [
       "'Azócar Guzman'"
      ]
     },
     "execution_count": 7,
     "metadata": {},
     "output_type": "execute_result"
    }
   ],
   "source": [
    "last_name"
   ]
  },
  {
   "cell_type": "code",
   "execution_count": null,
   "metadata": {},
   "outputs": [],
   "source": []
  },
  {
   "cell_type": "markdown",
   "metadata": {},
   "source": [
    "##### Operadores matemáticos"
   ]
  },
  {
   "cell_type": "code",
   "execution_count": 24,
   "metadata": {},
   "outputs": [],
   "source": [
    "# Suma\n",
    "number1 = 10\n",
    "number2 = 20\n",
    "\n",
    "result_suma = number1 + number2"
   ]
  },
  {
   "cell_type": "code",
   "execution_count": 25,
   "metadata": {},
   "outputs": [
    {
     "name": "stdout",
     "output_type": "stream",
     "text": [
      "30\n"
     ]
    }
   ],
   "source": [
    "print(result_suma)"
   ]
  },
  {
   "cell_type": "code",
   "execution_count": 26,
   "metadata": {},
   "outputs": [
    {
     "name": "stdout",
     "output_type": "stream",
     "text": [
      "El resultado de number 1 y number es 30\n"
     ]
    }
   ],
   "source": [
    "print(\"El resultado de number 1 y number es\", result_suma)"
   ]
  },
  {
   "cell_type": "markdown",
   "metadata": {},
   "source": []
  },
  {
   "cell_type": "code",
   "execution_count": null,
   "metadata": {},
   "outputs": [],
   "source": [
    "# Suma 2\n",
    "number3 = 12.88\n",
    "number4 = 2.5\n",
    "resultado_suma2 = number3 + number4"
   ]
  },
  {
   "cell_type": "code",
   "execution_count": 28,
   "metadata": {},
   "outputs": [
    {
     "name": "stdout",
     "output_type": "stream",
     "text": [
      "15.38\n"
     ]
    }
   ],
   "source": [
    "print(resultado_suma2)"
   ]
  },
  {
   "cell_type": "code",
   "execution_count": 29,
   "metadata": {},
   "outputs": [
    {
     "name": "stdout",
     "output_type": "stream",
     "text": [
      "7.449999999999999\n"
     ]
    }
   ],
   "source": [
    "# Resta\n",
    "number5 = 20\n",
    "number6 = 12.55\n",
    "resultado_resta = number5 - number6\n",
    "print(resultado_resta)"
   ]
  },
  {
   "cell_type": "code",
   "execution_count": 30,
   "metadata": {},
   "outputs": [
    {
     "name": "stdout",
     "output_type": "stream",
     "text": [
      "El resultado de la suma es 30\n"
     ]
    }
   ],
   "source": [
    "print(\"El resultado de la suma es\", result_suma)"
   ]
  },
  {
   "cell_type": "code",
   "execution_count": null,
   "metadata": {},
   "outputs": [
    {
     "name": "stdout",
     "output_type": "stream",
     "text": [
      "98\n"
     ]
    }
   ],
   "source": [
    "# Multiplicacion\n",
    "number7 = 7\n",
    "number8 = 14\n",
    "\n",
    "result_producto = number7 * number8\n",
    "\n",
    "print(result_producto)\n",
    "\n"
   ]
  },
  {
   "cell_type": "code",
   "execution_count": 36,
   "metadata": {},
   "outputs": [
    {
     "name": "stdout",
     "output_type": "stream",
     "text": [
      "El resultado del producto es: 98\n"
     ]
    }
   ],
   "source": [
    "print(f\"El resultado del producto es: {result_producto}\")"
   ]
  },
  {
   "cell_type": "code",
   "execution_count": null,
   "metadata": {},
   "outputs": [
    {
     "name": "stdout",
     "output_type": "stream",
     "text": [
      "El resultado de la division es: 2.0\n"
     ]
    }
   ],
   "source": [
    "# Division\n",
    "number9 = 20\n",
    "number10 = 10\n",
    "\n",
    "result_div = number9/number10\n",
    "\n",
    "print(f\"El resultado de la division es: {result_div}\")"
   ]
  },
  {
   "cell_type": "code",
   "execution_count": null,
   "metadata": {},
   "outputs": [],
   "source": []
  },
  {
   "cell_type": "markdown",
   "metadata": {},
   "source": [
    "#### Operadores de comparacion"
   ]
  },
  {
   "cell_type": "code",
   "execution_count": 40,
   "metadata": {},
   "outputs": [],
   "source": [
    "# Mayor que >\n",
    "# Menor que <\n",
    "# Mayor o igual que >=\n",
    "# Menor o igual que <=\n",
    "# Igual que ==\n",
    "# Diferente !=\n",
    "\n"
   ]
  },
  {
   "cell_type": "code",
   "execution_count": 41,
   "metadata": {},
   "outputs": [
    {
     "data": {
      "text/plain": [
       "True"
      ]
     },
     "execution_count": 41,
     "metadata": {},
     "output_type": "execute_result"
    }
   ],
   "source": [
    "# Ejemplos de comparaciones\n",
    "3 > 2"
   ]
  },
  {
   "cell_type": "code",
   "execution_count": null,
   "metadata": {},
   "outputs": [],
   "source": [
    "# Operadores booleanos\n",
    "# True o False"
   ]
  },
  {
   "cell_type": "code",
   "execution_count": 42,
   "metadata": {},
   "outputs": [
    {
     "data": {
      "text/plain": [
       "False"
      ]
     },
     "execution_count": 42,
     "metadata": {},
     "output_type": "execute_result"
    }
   ],
   "source": [
    "result_div >= result_producto"
   ]
  },
  {
   "cell_type": "code",
   "execution_count": 44,
   "metadata": {},
   "outputs": [
    {
     "data": {
      "text/plain": [
       "True"
      ]
     },
     "execution_count": 44,
     "metadata": {},
     "output_type": "execute_result"
    }
   ],
   "source": [
    "\"pedro\" ==\"pedro\""
   ]
  },
  {
   "cell_type": "code",
   "execution_count": 45,
   "metadata": {},
   "outputs": [
    {
     "data": {
      "text/plain": [
       "False"
      ]
     },
     "execution_count": 45,
     "metadata": {},
     "output_type": "execute_result"
    }
   ],
   "source": [
    "\"pedro\" == \"Pedro\""
   ]
  },
  {
   "cell_type": "code",
   "execution_count": 46,
   "metadata": {},
   "outputs": [
    {
     "data": {
      "text/plain": [
       "False"
      ]
     },
     "execution_count": 46,
     "metadata": {},
     "output_type": "execute_result"
    }
   ],
   "source": [
    "result_suma == resultado_suma2"
   ]
  },
  {
   "cell_type": "markdown",
   "metadata": {},
   "source": [
    "#### Condicionales"
   ]
  },
  {
   "cell_type": "code",
   "execution_count": null,
   "metadata": {},
   "outputs": [
    {
     "name": "stdout",
     "output_type": "stream",
     "text": [
      "La division es menor que la multiplicacion\n"
     ]
    }
   ],
   "source": [
    "# if condition: \n",
    "#    Instrucciones \n",
    "\n",
    "# Condicional simple\n",
    "\n",
    "if result_div <= result_producto:\n",
    "    print(\"La division es menor que la multiplicacion\")\n"
   ]
  },
  {
   "cell_type": "code",
   "execution_count": 52,
   "metadata": {},
   "outputs": [
    {
     "name": "stdout",
     "output_type": "stream",
     "text": [
      "La division es mayor que la multiplicacion\n"
     ]
    }
   ],
   "source": [
    "# if condition: \n",
    "#    Instrucciones \n",
    "\n",
    "# Condicional compuesta\n",
    "if result_div >= result_producto:\n",
    "    print(\"La division es menor que la multiplicacion\")\n",
    "else:\n",
    "    print(\"La division es mayor que la multiplicacion\")\n",
    "    "
   ]
  },
  {
   "cell_type": "code",
   "execution_count": 70,
   "metadata": {},
   "outputs": [
    {
     "name": "stdout",
     "output_type": "stream",
     "text": [
      "Femenino\n"
     ]
    }
   ],
   "source": [
    "# ladies night\n",
    "genero = \"Femenino\"\n",
    "age = 18\n",
    "date_week = \"Jueves\"\n",
    "\n",
    "print(genero)\n"
   ]
  },
  {
   "cell_type": "code",
   "execution_count": 63,
   "metadata": {},
   "outputs": [
    {
     "ename": "NameError",
     "evalue": "name 'genero' is not defined",
     "output_type": "error",
     "traceback": [
      "\u001b[31m---------------------------------------------------------------------------\u001b[39m",
      "\u001b[31mNameError\u001b[39m                                 Traceback (most recent call last)",
      "\u001b[36mCell\u001b[39m\u001b[36m \u001b[39m\u001b[32mIn[63]\u001b[39m\u001b[32m, line 3\u001b[39m\n\u001b[32m      1\u001b[39m \u001b[38;5;28;01mif\u001b[39;00m date_week == \u001b[33m\"\u001b[39m\u001b[33mJueves\u001b[39m\u001b[33m\"\u001b[39m:\n\u001b[32m      2\u001b[39m     \u001b[38;5;28;01mif\u001b[39;00m age >= \u001b[32m18\u001b[39m:\n\u001b[32m----> \u001b[39m\u001b[32m3\u001b[39m          \u001b[38;5;28;01mif\u001b[39;00m \u001b[43mgenero\u001b[49m == \u001b[33m\"\u001b[39m\u001b[33mFemenino\u001b[39m\u001b[33m\"\u001b[39m:\n\u001b[32m      4\u001b[39m              \u001b[38;5;28mprint\u001b[39m(\u001b[33m\"\u001b[39m\u001b[33mEs ladies night, Welcome\u001b[39m\u001b[33m\"\u001b[39m)\n",
      "\u001b[31mNameError\u001b[39m: name 'genero' is not defined"
     ]
    }
   ],
   "source": [
    "if date_week == \"Jueves\":\n",
    "    if age >= 18:\n",
    "         if genero == \"Femenino\":\n",
    "             print(\"Es ladies night, Welcome\")\n"
   ]
  },
  {
   "cell_type": "code",
   "execution_count": null,
   "metadata": {},
   "outputs": [],
   "source": [
    "# ladies night\n",
    "genero = input(\"Ingrese su genero: \")\n",
    "age = int(input(\"Ingrese su edad: \"))\n",
    "date_week = input(\"Ingrese el dia de la semana:\")\n",
    "\n",
    "if date_week == \"Jueves\":\n",
    "    if age >= 18:\n",
    "         if genero == \"Femenino\":\n",
    "             print(\"Es ladies night, Welcome\")\n",
    "        else:\n",
    "            print(\"No puede entrar gratis\")\n",
    "    else:\n",
    "        print(\"No tiene la edad suficiente\")\n",
    "else:\n",
    "     print(\"No es Jueves\")"
   ]
  },
  {
   "cell_type": "code",
   "execution_count": null,
   "metadata": {},
   "outputs": [
    {
     "name": "stdout",
     "output_type": "stream",
     "text": [
      "Es Jueves\n"
     ]
    }
   ],
   "source": [
    "# Condicionales encadenados\n",
    "if date_week == \"Jueves\":\n",
    "    print(\"Es Jueves\")\n",
    "elif date_week == \"Viernes\":\n",
    "    print(\"Es Viernes\")\n",
    "elif date_week == \"Sabado\":\n",
    "    print(\"Es Sabado\")\n",
    "elif date_week == \"Domingo\":\n",
    "    print(\"Es Domingo\")\n",
    "else:\n",
    "    print(\" no es Jueves, ni Viernes, ni sabadi ni domingo\")\n",
    "\n"
   ]
  },
  {
   "cell_type": "code",
   "execution_count": 68,
   "metadata": {},
   "outputs": [
    {
     "ename": "NameError",
     "evalue": "name 'genero' is not defined",
     "output_type": "error",
     "traceback": [
      "\u001b[31m---------------------------------------------------------------------------\u001b[39m",
      "\u001b[31mNameError\u001b[39m                                 Traceback (most recent call last)",
      "\u001b[36mCell\u001b[39m\u001b[36m \u001b[39m\u001b[32mIn[68]\u001b[39m\u001b[32m, line 6\u001b[39m\n\u001b[32m      1\u001b[39m \u001b[38;5;66;03m# Operadores Logicos\u001b[39;00m\n\u001b[32m      2\u001b[39m \u001b[38;5;66;03m# and\u001b[39;00m\n\u001b[32m      3\u001b[39m \u001b[38;5;66;03m# or\u001b[39;00m\n\u001b[32m      4\u001b[39m \u001b[38;5;66;03m# not\u001b[39;00m\n\u001b[32m----> \u001b[39m\u001b[32m6\u001b[39m \u001b[38;5;28;01mif\u001b[39;00m (date_week == \u001b[33m\"\u001b[39m\u001b[33mJueves\u001b[39m\u001b[33m\"\u001b[39m) \u001b[38;5;129;01mand\u001b[39;00m (\u001b[43mgenero\u001b[49m == \u001b[33m\"\u001b[39m\u001b[33mFemenino\u001b[39m\u001b[33m\"\u001b[39m):\n\u001b[32m      7\u001b[39m     \u001b[38;5;28mprint\u001b[39m(\u001b[33m\"\u001b[39m\u001b[33mPuede entrar gratis\u001b[39m\u001b[33m\"\u001b[39m)\n",
      "\u001b[31mNameError\u001b[39m: name 'genero' is not defined"
     ]
    }
   ],
   "source": [
    "# Operadores Logicos\n",
    "# and\n",
    "# or\n",
    "# not\n",
    "\n",
    "if (date_week == \"Jueves\") and (genero == \"Femenino\"):\n",
    "    print(\"Puede entrar gratis\")"
   ]
  },
  {
   "cell_type": "code",
   "execution_count": 69,
   "metadata": {},
   "outputs": [
    {
     "name": "stdout",
     "output_type": "stream",
     "text": [
      "Puede entrar gratis\n"
     ]
    }
   ],
   "source": [
    "if (date_week == \"Jueves\") or (date_week == \"Jueves\"):\n",
    "    print(\"Puede entrar gratis\")"
   ]
  },
  {
   "cell_type": "markdown",
   "metadata": {},
   "source": [
    "### Tipos de datos en Python"
   ]
  },
  {
   "cell_type": "code",
   "execution_count": 1,
   "metadata": {},
   "outputs": [],
   "source": [
    "name = \"Josefino\""
   ]
  },
  {
   "cell_type": "code",
   "execution_count": 2,
   "metadata": {},
   "outputs": [
    {
     "ename": "AttributeError",
     "evalue": "'str' object has no attribute 'capitalie'",
     "output_type": "error",
     "traceback": [
      "\u001b[31m---------------------------------------------------------------------------\u001b[39m",
      "\u001b[31mAttributeError\u001b[39m                            Traceback (most recent call last)",
      "\u001b[36mCell\u001b[39m\u001b[36m \u001b[39m\u001b[32mIn[2]\u001b[39m\u001b[32m, line 1\u001b[39m\n\u001b[32m----> \u001b[39m\u001b[32m1\u001b[39m \u001b[43mname\u001b[49m\u001b[43m.\u001b[49m\u001b[43mcapitalie\u001b[49m()\n",
      "\u001b[31mAttributeError\u001b[39m: 'str' object has no attribute 'capitalie'"
     ]
    }
   ],
   "source": [
    "name.capitalie()"
   ]
  },
  {
   "cell_type": "code",
   "execution_count": 3,
   "metadata": {},
   "outputs": [
    {
     "data": {
      "text/plain": [
       "'Josefino'"
      ]
     },
     "execution_count": 3,
     "metadata": {},
     "output_type": "execute_result"
    }
   ],
   "source": [
    "name.capitalize()"
   ]
  },
  {
   "cell_type": "code",
   "execution_count": 4,
   "metadata": {},
   "outputs": [
    {
     "data": {
      "text/plain": [
       "2"
      ]
     },
     "execution_count": 4,
     "metadata": {},
     "output_type": "execute_result"
    }
   ],
   "source": [
    "name.count(\"o\")"
   ]
  },
  {
   "cell_type": "code",
   "execution_count": 5,
   "metadata": {},
   "outputs": [
    {
     "data": {
      "text/plain": [
       "'Josefino'"
      ]
     },
     "execution_count": 5,
     "metadata": {},
     "output_type": "execute_result"
    }
   ],
   "source": [
    "name"
   ]
  },
  {
   "cell_type": "code",
   "execution_count": 6,
   "metadata": {},
   "outputs": [
    {
     "data": {
      "text/plain": [
       "'o'"
      ]
     },
     "execution_count": 6,
     "metadata": {},
     "output_type": "execute_result"
    }
   ],
   "source": [
    "name[1]"
   ]
  },
  {
   "cell_type": "code",
   "execution_count": 7,
   "metadata": {},
   "outputs": [
    {
     "data": {
      "text/plain": [
       "'i'"
      ]
     },
     "execution_count": 7,
     "metadata": {},
     "output_type": "execute_result"
    }
   ],
   "source": [
    "name [5]"
   ]
  },
  {
   "cell_type": "markdown",
   "metadata": {},
   "source": [
    "### Listas"
   ]
  },
  {
   "cell_type": "code",
   "execution_count": 10,
   "metadata": {},
   "outputs": [],
   "source": [
    "name_list = [\"josefino\", \"Ruperto\", \"Mariano\"]"
   ]
  },
  {
   "cell_type": "code",
   "execution_count": 12,
   "metadata": {},
   "outputs": [],
   "source": [
    "# Lista de enteros\n",
    "number_list = [1, 2, 3, 4, 5]"
   ]
  },
  {
   "cell_type": "code",
   "execution_count": 13,
   "metadata": {},
   "outputs": [],
   "source": [
    "# Lista de floats\n",
    "number_list = [1.0, 2.0, 3.0, 4.0, 5.0]"
   ]
  },
  {
   "cell_type": "code",
   "execution_count": 14,
   "metadata": {},
   "outputs": [
    {
     "data": {
      "text/plain": [
       "8"
      ]
     },
     "execution_count": 14,
     "metadata": {},
     "output_type": "execute_result"
    }
   ],
   "source": [
    "len(name)"
   ]
  },
  {
   "cell_type": "code",
   "execution_count": 15,
   "metadata": {},
   "outputs": [
    {
     "data": {
      "text/plain": [
       "3"
      ]
     },
     "execution_count": 15,
     "metadata": {},
     "output_type": "execute_result"
    }
   ],
   "source": [
    "len(name_list)"
   ]
  },
  {
   "cell_type": "code",
   "execution_count": 16,
   "metadata": {},
   "outputs": [],
   "source": [
    "# Lista mixta\n",
    "mixed_list = [1, 2.0, \"Josefino\", True]"
   ]
  },
  {
   "cell_type": "code",
   "execution_count": 17,
   "metadata": {},
   "outputs": [
    {
     "ename": "AttributeError",
     "evalue": "'str' object has no attribute 'list'",
     "output_type": "error",
     "traceback": [
      "\u001b[31m---------------------------------------------------------------------------\u001b[39m",
      "\u001b[31mAttributeError\u001b[39m                            Traceback (most recent call last)",
      "\u001b[36mCell\u001b[39m\u001b[36m \u001b[39m\u001b[32mIn[17]\u001b[39m\u001b[32m, line 2\u001b[39m\n\u001b[32m      1\u001b[39m \u001b[38;5;66;03m# Agregar un elemento a la lista\u001b[39;00m\n\u001b[32m----> \u001b[39m\u001b[32m2\u001b[39m \u001b[43mname\u001b[49m\u001b[43m.\u001b[49m\u001b[43mlist\u001b[49m.append(\u001b[33m\"\u001b[39m\u001b[33mMariano\u001b[39m\u001b[33m\"\u001b[39m)\n",
      "\u001b[31mAttributeError\u001b[39m: 'str' object has no attribute 'list'"
     ]
    }
   ],
   "source": [
    "# Agregar un elemento a la lista\n",
    "name.list.append(\"Mariano\")"
   ]
  },
  {
   "cell_type": "code",
   "execution_count": 18,
   "metadata": {},
   "outputs": [],
   "source": [
    "name_list.append(\"Maria Antonia\")"
   ]
  },
  {
   "cell_type": "code",
   "execution_count": 19,
   "metadata": {},
   "outputs": [
    {
     "data": {
      "text/plain": [
       "['josefino', 'Ruperto', 'Mariano', 'Maria Antonia']"
      ]
     },
     "execution_count": 19,
     "metadata": {},
     "output_type": "execute_result"
    }
   ],
   "source": [
    "name_list"
   ]
  },
  {
   "cell_type": "code",
   "execution_count": null,
   "metadata": {},
   "outputs": [
    {
     "data": {
      "text/plain": [
       "'Maria Antonia'"
      ]
     },
     "execution_count": 20,
     "metadata": {},
     "output_type": "execute_result"
    }
   ],
   "source": [
    "# Revisar el ultimo elemento\n",
    "name_list[-1]"
   ]
  },
  {
   "cell_type": "code",
   "execution_count": 21,
   "metadata": {},
   "outputs": [
    {
     "data": {
      "text/plain": [
       "'Josefino'"
      ]
     },
     "execution_count": 21,
     "metadata": {},
     "output_type": "execute_result"
    }
   ],
   "source": [
    "name"
   ]
  },
  {
   "cell_type": "code",
   "execution_count": 22,
   "metadata": {},
   "outputs": [],
   "source": [
    "name = name.capitalize()"
   ]
  },
  {
   "cell_type": "code",
   "execution_count": 23,
   "metadata": {},
   "outputs": [
    {
     "data": {
      "text/plain": [
       "'josefino'"
      ]
     },
     "execution_count": 23,
     "metadata": {},
     "output_type": "execute_result"
    }
   ],
   "source": [
    "# Lista es mutable\n",
    "name_list[0]"
   ]
  },
  {
   "cell_type": "code",
   "execution_count": 24,
   "metadata": {},
   "outputs": [],
   "source": [
    "name_list[0] = \"petra\""
   ]
  },
  {
   "cell_type": "code",
   "execution_count": 25,
   "metadata": {},
   "outputs": [
    {
     "data": {
      "text/plain": [
       "['petra', 'Ruperto', 'Mariano', 'Maria Antonia']"
      ]
     },
     "execution_count": 25,
     "metadata": {},
     "output_type": "execute_result"
    }
   ],
   "source": [
    "name_list"
   ]
  },
  {
   "cell_type": "code",
   "execution_count": 26,
   "metadata": {},
   "outputs": [],
   "source": [
    "# Copia de lista\n",
    "name_list2 = name_list.copy()"
   ]
  },
  {
   "cell_type": "code",
   "execution_count": 27,
   "metadata": {},
   "outputs": [
    {
     "data": {
      "text/plain": [
       "['petra', 'Ruperto', 'Mariano', 'Maria Antonia']"
      ]
     },
     "execution_count": 27,
     "metadata": {},
     "output_type": "execute_result"
    }
   ],
   "source": [
    "name_list2"
   ]
  },
  {
   "cell_type": "code",
   "execution_count": 28,
   "metadata": {},
   "outputs": [
    {
     "data": {
      "text/plain": [
       "['petra', 'Ruperto', 'Mariano']"
      ]
     },
     "execution_count": 28,
     "metadata": {},
     "output_type": "execute_result"
    }
   ],
   "source": [
    "# slice de listas\n",
    "name_list[0:3]"
   ]
  },
  {
   "cell_type": "code",
   "execution_count": 29,
   "metadata": {},
   "outputs": [
    {
     "data": {
      "text/plain": [
       "['Mariano']"
      ]
     },
     "execution_count": 29,
     "metadata": {},
     "output_type": "execute_result"
    }
   ],
   "source": [
    "name_list[2:3]"
   ]
  },
  {
   "cell_type": "code",
   "execution_count": 30,
   "metadata": {},
   "outputs": [
    {
     "data": {
      "text/plain": [
       "['Ruperto', 'Maria Antonia']"
      ]
     },
     "execution_count": 30,
     "metadata": {},
     "output_type": "execute_result"
    }
   ],
   "source": [
    "# slice de listas con step\n",
    "name_list[1::2]"
   ]
  },
  {
   "cell_type": "code",
   "execution_count": 31,
   "metadata": {},
   "outputs": [],
   "source": [
    "last_name_list = [\n",
    "                \"perez\"\n",
    "                \"gonzalez\"\n",
    "                \"lopez\"\n",
    "                \"sanchez\"\n",
    "]"
   ]
  },
  {
   "cell_type": "markdown",
   "metadata": {},
   "source": [
    "### Diccionarios"
   ]
  },
  {
   "cell_type": "markdown",
   "metadata": {},
   "source": []
  },
  {
   "cell_type": "code",
   "execution_count": 33,
   "metadata": {},
   "outputs": [],
   "source": [
    "# Estructura de datos de un diccionario\n",
    "# Diccionario de claves y valores\n",
    "dict_persona = {\n",
    "    \"nombre\": \"Josefino\",\n",
    "    \"apellido\": \"perez\",\n",
    "    \"edad\": 25,\n",
    "    \"ciuidad\": \"santiago\",\n",
    "    \"pais\": \"chile\"\n",
    "}\n"
   ]
  },
  {
   "cell_type": "code",
   "execution_count": 34,
   "metadata": {},
   "outputs": [
    {
     "data": {
      "text/plain": [
       "'Josefino'"
      ]
     },
     "execution_count": 34,
     "metadata": {},
     "output_type": "execute_result"
    }
   ],
   "source": [
    "dict_persona[\"nombre\"]"
   ]
  },
  {
   "cell_type": "markdown",
   "metadata": {},
   "source": [
    "### Tuplas"
   ]
  },
  {
   "cell_type": "code",
   "execution_count": 2,
   "metadata": {},
   "outputs": [],
   "source": [
    "tuple1 = (\"josefino\", \"perez\", 25, \"santiago\", \"chile\")"
   ]
  },
  {
   "cell_type": "markdown",
   "metadata": {},
   "source": [
    "### Ciclos"
   ]
  },
  {
   "cell_type": "markdown",
   "metadata": {},
   "source": [
    "#### . Ciclo for"
   ]
  },
  {
   "cell_type": "code",
   "execution_count": 3,
   "metadata": {},
   "outputs": [
    {
     "ename": "NameError",
     "evalue": "name 'name_list' is not defined",
     "output_type": "error",
     "traceback": [
      "\u001b[31m---------------------------------------------------------------------------\u001b[39m",
      "\u001b[31mNameError\u001b[39m                                 Traceback (most recent call last)",
      "\u001b[36mCell\u001b[39m\u001b[36m \u001b[39m\u001b[32mIn[3]\u001b[39m\u001b[32m, line 2\u001b[39m\n\u001b[32m      1\u001b[39m \u001b[38;5;66;03m#ciclo for \u001b[39;00m\n\u001b[32m----> \u001b[39m\u001b[32m2\u001b[39m \u001b[38;5;28;01mfor\u001b[39;00m nombre \u001b[38;5;129;01min\u001b[39;00m \u001b[43mname_list\u001b[49m:\n\u001b[32m      3\u001b[39m     \u001b[38;5;28mprint\u001b[39m(nombre)\n",
      "\u001b[31mNameError\u001b[39m: name 'name_list' is not defined"
     ]
    }
   ],
   "source": [
    "#ciclo for \n",
    "for nombre in name_list:\n",
    "    print(nombre)"
   ]
  },
  {
   "cell_type": "code",
   "execution_count": 4,
   "metadata": {},
   "outputs": [
    {
     "ename": "NameError",
     "evalue": "name 'name_list2' is not defined",
     "output_type": "error",
     "traceback": [
      "\u001b[31m---------------------------------------------------------------------------\u001b[39m",
      "\u001b[31mNameError\u001b[39m                                 Traceback (most recent call last)",
      "\u001b[36mCell\u001b[39m\u001b[36m \u001b[39m\u001b[32mIn[4]\u001b[39m\u001b[32m, line 1\u001b[39m\n\u001b[32m----> \u001b[39m\u001b[32m1\u001b[39m \u001b[38;5;28;01mfor\u001b[39;00m nombre \u001b[38;5;129;01min\u001b[39;00m \u001b[43mname_list2\u001b[49m:\n\u001b[32m      2\u001b[39m     \u001b[38;5;28mprint\u001b[39m(nombre)\n",
      "\u001b[31mNameError\u001b[39m: name 'name_list2' is not defined"
     ]
    }
   ],
   "source": [
    "for nombre in name_list2:\n",
    "    print(nombre)"
   ]
  },
  {
   "cell_type": "code",
   "execution_count": 5,
   "metadata": {},
   "outputs": [
    {
     "ename": "NameError",
     "evalue": "name 'name_list' is not defined",
     "output_type": "error",
     "traceback": [
      "\u001b[31m---------------------------------------------------------------------------\u001b[39m",
      "\u001b[31mNameError\u001b[39m                                 Traceback (most recent call last)",
      "\u001b[36mCell\u001b[39m\u001b[36m \u001b[39m\u001b[32mIn[5]\u001b[39m\u001b[32m, line 1\u001b[39m\n\u001b[32m----> \u001b[39m\u001b[32m1\u001b[39m \u001b[43mname_list\u001b[49m\n",
      "\u001b[31mNameError\u001b[39m: name 'name_list' is not defined"
     ]
    }
   ],
   "source": [
    "name_list"
   ]
  },
  {
   "cell_type": "code",
   "execution_count": 6,
   "metadata": {},
   "outputs": [],
   "source": [
    "name_list = [\"josefino\", \"Ruperto\", \"Mariano\"]"
   ]
  },
  {
   "cell_type": "code",
   "execution_count": 7,
   "metadata": {},
   "outputs": [
    {
     "name": "stdout",
     "output_type": "stream",
     "text": [
      "josefino\n",
      "Ruperto\n",
      "Mariano\n"
     ]
    }
   ],
   "source": [
    "for nombre in name_list:\n",
    "    print(nombre)"
   ]
  },
  {
   "cell_type": "code",
   "execution_count": 8,
   "metadata": {},
   "outputs": [
    {
     "name": "stdout",
     "output_type": "stream",
     "text": [
      "Josefino\n",
      "Ruperto\n",
      "Mariano\n"
     ]
    }
   ],
   "source": [
    "for name in name_list:\n",
    "    print(name.capitalize())"
   ]
  },
  {
   "cell_type": "code",
   "execution_count": 10,
   "metadata": {},
   "outputs": [
    {
     "name": "stdout",
     "output_type": "stream",
     "text": [
      "Encontre a Ruperto\n"
     ]
    }
   ],
   "source": [
    "# Ciclo para buscar a Ruperto\n",
    "for name in name_list:\n",
    "    if name == \"Ruperto\":\n",
    "        print(\"Encontre a Ruperto\")"
   ]
  },
  {
   "cell_type": "code",
   "execution_count": 11,
   "metadata": {},
   "outputs": [
    {
     "name": "stdout",
     "output_type": "stream",
     "text": [
      "Encontre a Ruperto\n"
     ]
    }
   ],
   "source": [
    "for name in name_list:\n",
    "    if name == \"Ruperto\":\n",
    "        print(\"Encontre a Ruperto\")\n",
    "        break"
   ]
  },
  {
   "cell_type": "code",
   "execution_count": 13,
   "metadata": {},
   "outputs": [],
   "source": [
    "for name in name_list:\n",
    "    if name == \"ruperto\":\n",
    "        print(\"Encontre a Ruperto\")\n",
    "    elif name == \"maria antonia\":\n",
    "        print(\"Encontre a maria antonia\")\n"
   ]
  },
  {
   "cell_type": "code",
   "execution_count": 16,
   "metadata": {},
   "outputs": [
    {
     "name": "stdout",
     "output_type": "stream",
     "text": [
      "0\n",
      "1\n",
      "2\n",
      "3\n",
      "4\n"
     ]
    }
   ],
   "source": [
    "# Ciclo con rango\n",
    "for number in range(5):\n",
    "    print(number)"
   ]
  },
  {
   "cell_type": "code",
   "execution_count": 17,
   "metadata": {},
   "outputs": [
    {
     "name": "stdout",
     "output_type": "stream",
     "text": [
      "Hola\n",
      "Hola\n",
      "Hola\n",
      "Hola\n",
      "Hola\n"
     ]
    }
   ],
   "source": [
    "# Ciclo con rango\n",
    "for number in range(5):\n",
    "    print(\"Hola\")"
   ]
  },
  {
   "cell_type": "code",
   "execution_count": 18,
   "metadata": {},
   "outputs": [
    {
     "name": "stdout",
     "output_type": "stream",
     "text": [
      "0\n",
      "2\n",
      "4\n",
      "6\n",
      "8\n"
     ]
    }
   ],
   "source": [
    "# ciclo con rango y step\n",
    "for number in range(0, 10, 2):\n",
    "    print(number)"
   ]
  },
  {
   "cell_type": "code",
   "execution_count": null,
   "metadata": {},
   "outputs": [
    {
     "name": "stdout",
     "output_type": "stream",
     "text": [
      "0\n",
      "1\n",
      "2\n"
     ]
    }
   ],
   "source": [
    "# ciclo for range y len\n",
    "for number in range(len(name_list)):\n",
    "    print(number)"
   ]
  },
  {
   "cell_type": "code",
   "execution_count": 21,
   "metadata": {},
   "outputs": [
    {
     "name": "stdout",
     "output_type": "stream",
     "text": [
      "cantidad de elementos : 3\n",
      "josefino\n",
      "Ruperto\n",
      "Mariano\n"
     ]
    }
   ],
   "source": [
    "cantidad = len(name_list)\n",
    "print(f\"cantidad de elementos : {cantidad}\")\n",
    "for number in range(cantidad):\n",
    "    print(name_list[number])"
   ]
  },
  {
   "cell_type": "code",
   "execution_count": 24,
   "metadata": {},
   "outputs": [
    {
     "name": "stdout",
     "output_type": "stream",
     "text": [
      "Encontre a Ruperto en la posicion 1\n"
     ]
    }
   ],
   "source": [
    "# Buscar a Ruperto en la lista\n",
    "for name in range(len(name_list)):\n",
    "    if name_list[name] == \"Ruperto\":\n",
    "        print(\"Encontre a Ruperto en la posicion\", name)\n",
    "        break"
   ]
  },
  {
   "cell_type": "code",
   "execution_count": 23,
   "metadata": {},
   "outputs": [
    {
     "data": {
      "text/plain": [
       "['josefino', 'Ruperto', 'Mariano']"
      ]
     },
     "execution_count": 23,
     "metadata": {},
     "output_type": "execute_result"
    }
   ],
   "source": [
    "name_list"
   ]
  },
  {
   "cell_type": "code",
   "execution_count": 25,
   "metadata": {},
   "outputs": [
    {
     "name": "stdout",
     "output_type": "stream",
     "text": [
      "Encontre a Mariano en la posicion 2\n"
     ]
    }
   ],
   "source": [
    "# Buscar a Mariano en la lista\n",
    "for name in range(len(name_list)):\n",
    "    if name_list[name] == \"Mariano\":\n",
    "        print(\"Encontre a Mariano en la posicion\", name)\n",
    "        break"
   ]
  },
  {
   "cell_type": "code",
   "execution_count": 26,
   "metadata": {},
   "outputs": [],
   "source": [
    "name_list2 = \"Mariano\", \"Mariano\", \"Ruperto\", \"Josefa\""
   ]
  },
  {
   "cell_type": "code",
   "execution_count": null,
   "metadata": {},
   "outputs": [
    {
     "name": "stdout",
     "output_type": "stream",
     "text": [
      "Encontre a Mariano en la posicion 0\n"
     ]
    }
   ],
   "source": [
    "# Buscar a Mariano en la lista 2\n",
    "for name in range(len(name_list2)):\n",
    "    if name_list2[name] == \"Mariano\":\n",
    "        print(\"Encontre a Mariano en la posicion\", name)\n",
    "        break"
   ]
  },
  {
   "cell_type": "code",
   "execution_count": 28,
   "metadata": {},
   "outputs": [
    {
     "name": "stdout",
     "output_type": "stream",
     "text": [
      "Encontre a Mariano en la posicion 0\n",
      "Encontre a Mariano en la posicion 1\n"
     ]
    }
   ],
   "source": [
    "# Buscar a Mariano en la lista 2\n",
    "for name in range(len(name_list2)):\n",
    "    if name_list2[name] == \"Mariano\":\n",
    "        print(\"Encontre a Mariano en la posicion\", name)\n"
   ]
  },
  {
   "cell_type": "code",
   "execution_count": null,
   "metadata": {},
   "outputs": [],
   "source": []
  }
 ],
 "metadata": {
  "kernelspec": {
   "display_name": "Python 3",
   "language": "python",
   "name": "python3"
  },
  "language_info": {
   "codemirror_mode": {
    "name": "ipython",
    "version": 3
   },
   "file_extension": ".py",
   "mimetype": "text/x-python",
   "name": "python",
   "nbconvert_exporter": "python",
   "pygments_lexer": "ipython3",
   "version": "3.13.2"
  }
 },
 "nbformat": 4,
 "nbformat_minor": 2
}
