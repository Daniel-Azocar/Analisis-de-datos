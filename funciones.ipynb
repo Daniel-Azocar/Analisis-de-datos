{
 "cells": [
  {
   "cell_type": "markdown",
   "id": "cdbe6b5b",
   "metadata": {},
   "source": [
    "# Funciones en Python\n"
   ]
  },
  {
   "cell_type": "markdown",
   "id": "dbccceb1",
   "metadata": {},
   "source": []
  },
  {
   "cell_type": "code",
   "execution_count": 1,
   "id": "c8479655",
   "metadata": {},
   "outputs": [
    {
     "name": "stdout",
     "output_type": "stream",
     "text": [
      "Hola mundo\n"
     ]
    }
   ],
   "source": [
    "print(\"Hola mundo\")"
   ]
  },
  {
   "cell_type": "code",
   "execution_count": 2,
   "id": "1111055f",
   "metadata": {},
   "outputs": [],
   "source": [
    "# Funciones \n",
    "def  saludos():\n",
    "    print(\"Hola, soy un saludo desde la funcion\")"
   ]
  },
  {
   "cell_type": "code",
   "execution_count": 3,
   "id": "3e05ac76",
   "metadata": {},
   "outputs": [
    {
     "name": "stdout",
     "output_type": "stream",
     "text": [
      "Hola, soy un saludo desde la funcion\n"
     ]
    }
   ],
   "source": [
    "saludos()"
   ]
  },
  {
   "cell_type": "code",
   "execution_count": 4,
   "id": "660629d1",
   "metadata": {},
   "outputs": [
    {
     "ename": "SyntaxError",
     "evalue": "invalid syntax (3312373833.py, line 1)",
     "output_type": "error",
     "traceback": [
      "  \u001b[36mCell\u001b[39m\u001b[36m \u001b[39m\u001b[32mIn[4]\u001b[39m\u001b[32m, line 1\u001b[39m\n\u001b[31m    \u001b[39m\u001b[31mdef saludos(\"Jose\"):\u001b[39m\n                ^\n\u001b[31mSyntaxError\u001b[39m\u001b[31m:\u001b[39m invalid syntax\n"
     ]
    }
   ],
   "source": [
    "def saludos(\"Jose\"): "
   ]
  },
  {
   "cell_type": "code",
   "execution_count": 5,
   "id": "538a617c",
   "metadata": {},
   "outputs": [],
   "source": [
    "# Funciones con argumentos\n",
    "def saludos2(nombre):\n",
    "    print(f\"Hola, soy un saludos desde una funcion y me llamo {nombre}\")"
   ]
  },
  {
   "cell_type": "code",
   "execution_count": 6,
   "id": "f88ecdc9",
   "metadata": {},
   "outputs": [
    {
     "name": "stdout",
     "output_type": "stream",
     "text": [
      "Hola, soy un saludos desde una funcion y me llamo Jose\n"
     ]
    }
   ],
   "source": [
    "saludos2(\"Jose\")"
   ]
  },
  {
   "cell_type": "code",
   "execution_count": 7,
   "id": "a62331af",
   "metadata": {},
   "outputs": [
    {
     "ename": "SyntaxError",
     "evalue": "expected ':' (2630918655.py, line 2)",
     "output_type": "error",
     "traceback": [
      "  \u001b[36mCell\u001b[39m\u001b[36m \u001b[39m\u001b[32mIn[7]\u001b[39m\u001b[32m, line 2\u001b[39m\n\u001b[31m    \u001b[39m\u001b[31mdef saludos3(nombre)\u001b[39m\n                        ^\n\u001b[31mSyntaxError\u001b[39m\u001b[31m:\u001b[39m expected ':'\n"
     ]
    }
   ],
   "source": [
    "# Funciones con argumentos y retornos\n",
    "def saludos3(nombre)\n",
    "    return f\"Hola, soy un saludos desde una funcion y me llamo {nombre}\""
   ]
  },
  {
   "cell_type": "code",
   "execution_count": 8,
   "id": "bcf4f6e4",
   "metadata": {},
   "outputs": [
    {
     "ename": "SyntaxError",
     "evalue": "expected ':' (275210341.py, line 2)",
     "output_type": "error",
     "traceback": [
      "  \u001b[36mCell\u001b[39m\u001b[36m \u001b[39m\u001b[32mIn[8]\u001b[39m\u001b[32m, line 2\u001b[39m\n\u001b[31m    \u001b[39m\u001b[31mdef saludos3(nombre)\u001b[39m\n                        ^\n\u001b[31mSyntaxError\u001b[39m\u001b[31m:\u001b[39m expected ':'\n"
     ]
    }
   ],
   "source": [
    "# Funciones con argumentos y retornos\n",
    "def saludos3(nombre)\n",
    "    return f\"Hola, soy un saludos desde una funcion y me llamo {nombre}"
   ]
  },
  {
   "cell_type": "code",
   "execution_count": null,
   "id": "763cfe6c",
   "metadata": {},
   "outputs": [],
   "source": [
    "# Funciones con argumentos y retornos\n",
    "def saludos3(nombre)\n",
    "    return f\"Hola, soy un saludos desde una funcion y me llamo {nombre}\""
   ]
  },
  {
   "cell_type": "code",
   "execution_count": 9,
   "id": "2ec6dc10",
   "metadata": {},
   "outputs": [],
   "source": [
    "# Funcion para sumar\n",
    "def suma(a ,b):\n",
    "    return a + b"
   ]
  },
  {
   "cell_type": "code",
   "execution_count": 10,
   "id": "ad4e6bc4",
   "metadata": {},
   "outputs": [
    {
     "data": {
      "text/plain": [
       "5"
      ]
     },
     "execution_count": 10,
     "metadata": {},
     "output_type": "execute_result"
    }
   ],
   "source": [
    "suma(2, 3)"
   ]
  },
  {
   "cell_type": "code",
   "execution_count": 11,
   "id": "027f76d5",
   "metadata": {},
   "outputs": [],
   "source": [
    "def suma2(a, b):\n",
    "    result = a + b\n",
    "    return result"
   ]
  },
  {
   "cell_type": "code",
   "execution_count": 12,
   "id": "2e5b17b9",
   "metadata": {},
   "outputs": [
    {
     "data": {
      "text/plain": [
       "6"
      ]
     },
     "execution_count": 12,
     "metadata": {},
     "output_type": "execute_result"
    }
   ],
   "source": [
    "suma2(2, 4)"
   ]
  },
  {
   "cell_type": "code",
   "execution_count": 14,
   "id": "8057f9da",
   "metadata": {},
   "outputs": [],
   "source": [
    "# Funciones con resta\n",
    "def resta(a, b):\n",
    "    resultado = a - b\n",
    "    return resultado"
   ]
  },
  {
   "cell_type": "code",
   "execution_count": 15,
   "id": "5056d8be",
   "metadata": {},
   "outputs": [
    {
     "data": {
      "text/plain": [
       "-1"
      ]
     },
     "execution_count": 15,
     "metadata": {},
     "output_type": "execute_result"
    }
   ],
   "source": [
    "resta(2, 3)"
   ]
  },
  {
   "cell_type": "code",
   "execution_count": 16,
   "id": "5cf3dd45",
   "metadata": {},
   "outputs": [
    {
     "data": {
      "text/plain": [
       "1"
      ]
     },
     "execution_count": 16,
     "metadata": {},
     "output_type": "execute_result"
    }
   ],
   "source": [
    "resta(b=2, a=3)"
   ]
  },
  {
   "cell_type": "code",
   "execution_count": 17,
   "id": "8f3c8a25",
   "metadata": {},
   "outputs": [
    {
     "data": {
      "text/plain": [
       "93"
      ]
     },
     "execution_count": 17,
     "metadata": {},
     "output_type": "execute_result"
    }
   ],
   "source": [
    "resta(b=7, a=100)"
   ]
  },
  {
   "cell_type": "code",
   "execution_count": 18,
   "id": "048075a8",
   "metadata": {},
   "outputs": [
    {
     "ename": "SyntaxError",
     "evalue": "parameter without a default follows parameter with a default (3379663994.py, line 1)",
     "output_type": "error",
     "traceback": [
      "  \u001b[36mCell\u001b[39m\u001b[36m \u001b[39m\u001b[32mIn[18]\u001b[39m\u001b[32m, line 1\u001b[39m\n\u001b[31m    \u001b[39m\u001b[31mdef resta2(a=1, b):\u001b[39m\n                    ^\n\u001b[31mSyntaxError\u001b[39m\u001b[31m:\u001b[39m parameter without a default follows parameter with a default\n"
     ]
    }
   ],
   "source": [
    "def resta2(a=1, b):\n",
    "    return a - b"
   ]
  },
  {
   "cell_type": "code",
   "execution_count": 19,
   "id": "035b170f",
   "metadata": {},
   "outputs": [],
   "source": [
    "def resta2(a=1, b=0):\n",
    "    return a - b"
   ]
  },
  {
   "cell_type": "code",
   "execution_count": 21,
   "id": "7e23a1ea",
   "metadata": {},
   "outputs": [],
   "source": [
    "# Documentacion de funciones\n",
    "def suma3(a:float, b:int) -> float:\n",
    "    \"\"\"\"\n",
    "    Funcion que suma dos numeros\n",
    "    :parametro a: primer numero float\n",
    "    :parametro b: segundo numero int\n",
    "    :return: suma de los dos numero float\n",
    "    \"\"\"\n",
    "    return a + b\n"
   ]
  },
  {
   "cell_type": "code",
   "execution_count": 22,
   "id": "c0a22fb1",
   "metadata": {},
   "outputs": [
    {
     "data": {
      "text/plain": [
       "6"
      ]
     },
     "execution_count": 22,
     "metadata": {},
     "output_type": "execute_result"
    }
   ],
   "source": [
    "suma(2,4)"
   ]
  },
  {
   "cell_type": "code",
   "execution_count": null,
   "id": "38a9628e",
   "metadata": {},
   "outputs": [],
   "source": [
    "def imc(estatura:float, peso:float) -> float:\n",
    "    \"\"\"\"\n",
    "    Funcion de indice de masa muscular\n",
    "    :parametro a: primer numero float en metros\n",
    "    :parametro b: segundo numero float en KG\n",
    "    :return: IMC numero float\n",
    "    \"\"\"\n",
    "    imc = peso / estatura**2\n",
    "    return imc"
   ]
  },
  {
   "cell_type": "code",
   "execution_count": 24,
   "id": "1abbedd0",
   "metadata": {},
   "outputs": [
    {
     "data": {
      "text/plain": [
       "27.68166089965398"
      ]
     },
     "execution_count": 24,
     "metadata": {},
     "output_type": "execute_result"
    }
   ],
   "source": [
    "imc(1.7, 80)"
   ]
  },
  {
   "cell_type": "code",
   "execution_count": 25,
   "id": "b458f731",
   "metadata": {},
   "outputs": [
    {
     "data": {
      "text/plain": [
       "26.819789223066422"
      ]
     },
     "execution_count": 25,
     "metadata": {},
     "output_type": "execute_result"
    }
   ],
   "source": [
    "imc (1.69, 76.6)"
   ]
  },
  {
   "cell_type": "code",
   "execution_count": 35,
   "id": "5e81559f",
   "metadata": {},
   "outputs": [],
   "source": [
    "def imc2(estatura:float, peso:float) -> float:\n",
    "    \"\"\"\"\n",
    "    Funcion de indice de masa muscular\n",
    "    :parametro a: primer numero float en metros\n",
    "    :parametro b: segundo numero float en KG\n",
    "    :return: IMC numero float\n",
    "    \"\"\"\n",
    "    imc2 = round((peso / estatura**2),2)\n",
    "    return imc2"
   ]
  },
  {
   "cell_type": "code",
   "execution_count": 27,
   "id": "394741fd",
   "metadata": {},
   "outputs": [
    {
     "data": {
      "text/plain": [
       "<function __main__.imc(estatura: float, peso: float) -> float>"
      ]
     },
     "execution_count": 27,
     "metadata": {},
     "output_type": "execute_result"
    }
   ],
   "source": [
    "imc2(1.7, 75.1)"
   ]
  },
  {
   "cell_type": "code",
   "execution_count": 28,
   "id": "2b5b82b6",
   "metadata": {},
   "outputs": [
    {
     "data": {
      "text/plain": [
       "<function __main__.imc(estatura: float, peso: float) -> float>"
      ]
     },
     "execution_count": 28,
     "metadata": {},
     "output_type": "execute_result"
    }
   ],
   "source": [
    "imc2(1.7, 75.1)"
   ]
  },
  {
   "cell_type": "code",
   "execution_count": 34,
   "id": "051fb593",
   "metadata": {},
   "outputs": [
    {
     "data": {
      "text/plain": [
       "<function __main__.imc(estatura: float, peso: float) -> float>"
      ]
     },
     "execution_count": 34,
     "metadata": {},
     "output_type": "execute_result"
    }
   ],
   "source": [
    "imc2(1.7, 56)"
   ]
  },
  {
   "cell_type": "code",
   "execution_count": 36,
   "id": "dc3e9062",
   "metadata": {},
   "outputs": [
    {
     "data": {
      "text/plain": [
       "19.377162629757787"
      ]
     },
     "execution_count": 36,
     "metadata": {},
     "output_type": "execute_result"
    }
   ],
   "source": [
    "imc(1.7, 56)"
   ]
  },
  {
   "cell_type": "code",
   "execution_count": null,
   "id": "41ebd560",
   "metadata": {},
   "outputs": [],
   "source": [
    "# Función para calcular el IMC\n",
    "def calcular_imc(peso, altura):\n",
    "    return peso / (altura ** 2)\n",
    "\n",
    "# Función para clasificar el IMC\n",
    "def clasificar_imc(imc):\n",
    "    if imc < 18.5:\n",
    "        return \"Estás por debajo del peso ideal.\"\n",
    "    elif 18.5 <= imc <= 24.9:\n",
    "        return \"Estás en el rango de peso ideal.\"\n",
    "    elif 25 <= imc <= 29.9:\n",
    "        return \"Tienes sobrepeso.\"\n",
    "    else:\n",
    "        return \"Estás en el rango de obesidad.\"\n",
    "\n",
    "# Solicitar peso y altura al usuario\n",
    "def main(peso):\n",
    "    peso = float(input(\"Introduce tu peso en kilogramos: \"))\n",
    "    altura = float(input(\"Introduce tu altura en metros: \"))\n",
    "\n",
    "    # Calcular y mostrar el IMC\n",
    "    imc = calcular_imc(peso, altura)\n",
    "    print(f\"Tu índice de masa corporal (IMC) es: {imc:.2f}\")\n",
    "\n",
    "    # Mostrar la clasificación del IMC\n",
    "    clasificacion = clasificar_imc(imc)\n",
    "    print(clasificacion)\n",
    "\n",
    "# Ejecutar el programa\n",
    "main()"
   ]
  }
 ],
 "metadata": {
  "kernelspec": {
   "display_name": "Python 3",
   "language": "python",
   "name": "python3"
  },
  "language_info": {
   "codemirror_mode": {
    "name": "ipython",
    "version": 3
   },
   "file_extension": ".py",
   "mimetype": "text/x-python",
   "name": "python",
   "nbconvert_exporter": "python",
   "pygments_lexer": "ipython3",
   "version": "3.13.2"
  }
 },
 "nbformat": 4,
 "nbformat_minor": 5
}
